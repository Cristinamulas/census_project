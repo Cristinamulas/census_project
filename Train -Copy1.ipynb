{
 "cells": [
  {
   "cell_type": "markdown",
   "metadata": {},
   "source": [
    "### AGENDA\n",
    "\n",
    " - Load the training dataset\n",
    " - Inspecting the train Dataset\n",
    " - Inspecting Placeholders\n",
    " - Inspecting Duplicated Values\n",
    " - Looking at Continues Fields\n",
    " - Looking at Categorical Fields\n",
    " - Correlated Features\n",
    " - Encode Categorical Features\n",
    " - Scale Continues Features\n",
    " - Inspenting Target Feature\n",
    " "
   ]
  },
  {
   "cell_type": "markdown",
   "metadata": {},
   "source": [
    "## Importing some packages"
   ]
  },
  {
   "cell_type": "code",
   "execution_count": 2,
   "metadata": {},
   "outputs": [],
   "source": [
    "\n",
    "import pandas as pd\n",
    "import numpy as np\n",
    "from sklearn.metrics import precision_score, recall_score, accuracy_score, f1_score, confusion_matrix\n",
    "import matplotlib.pyplot as plt\n",
    "import seaborn as sns\n",
    "import pandas as pd\n",
    "import numpy as np\n",
    "import matplotlib.pyplot as plt\n",
    "import seaborn as sns\n",
    "import plotly.express as px\n",
    "import numpy as np\n",
    "from imblearn.over_sampling import SMOTE\n",
    "from sklearn.model_selection import train_test_split\n",
    "from sklearn.tree import DecisionTreeClassifier\n",
    "from sklearn import metrics\n",
    "from sklearn.preprocessing import StandardScaler\n",
    "from sklearn.metrics import classification_report\n",
    "from sklearn.ensemble import RandomForestClassifier \n",
    "import functions as f\n",
    "import warnings\n",
    "warnings.filterwarnings('ignore')\n"
   ]
  },
  {
   "cell_type": "markdown",
   "metadata": {},
   "source": [
    "## Load the Train Preprocess Dataset"
   ]
  },
  {
   "cell_type": "code",
   "execution_count": 1,
   "metadata": {},
   "outputs": [
    {
     "data": {
      "application/javascript": [
       "\n",
       "        if (window._pyforest_update_imports_cell) { window._pyforest_update_imports_cell('import pandas as pd'); }\n",
       "    "
      ],
      "text/plain": [
       "<IPython.core.display.Javascript object>"
      ]
     },
     "metadata": {},
     "output_type": "display_data"
    }
   ],
   "source": [
    "df_train = pd.read_csv('census_income_learn_preprocess.csv')"
   ]
  },
  {
   "cell_type": "code",
   "execution_count": 2,
   "metadata": {},
   "outputs": [
    {
     "data": {
      "text/html": [
       "<div>\n",
       "<style scoped>\n",
       "    .dataframe tbody tr th:only-of-type {\n",
       "        vertical-align: middle;\n",
       "    }\n",
       "\n",
       "    .dataframe tbody tr th {\n",
       "        vertical-align: top;\n",
       "    }\n",
       "\n",
       "    .dataframe thead th {\n",
       "        text-align: right;\n",
       "    }\n",
       "</style>\n",
       "<table border=\"1\" class=\"dataframe\">\n",
       "  <thead>\n",
       "    <tr style=\"text-align: right;\">\n",
       "      <th></th>\n",
       "      <th>age</th>\n",
       "      <th>class_of_worker</th>\n",
       "      <th>detailed_industry_code</th>\n",
       "      <th>detailed_occupation_code</th>\n",
       "      <th>education</th>\n",
       "      <th>wage_per_hour</th>\n",
       "      <th>enrolled_in_edu_last_week</th>\n",
       "      <th>marital_status</th>\n",
       "      <th>major_industry_code</th>\n",
       "      <th>major_occupation_code</th>\n",
       "      <th>...</th>\n",
       "      <th>cob_mother</th>\n",
       "      <th>cob_self</th>\n",
       "      <th>citizenship</th>\n",
       "      <th>own_business_or_self_employed</th>\n",
       "      <th>fill_in_questionnaire_for_veterans_admin</th>\n",
       "      <th>veterans_benefits</th>\n",
       "      <th>weeks_worked_in_year</th>\n",
       "      <th>year</th>\n",
       "      <th>target</th>\n",
       "      <th>binary_target</th>\n",
       "    </tr>\n",
       "  </thead>\n",
       "  <tbody>\n",
       "    <tr>\n",
       "      <th>0</th>\n",
       "      <td>0.811111</td>\n",
       "      <td>0.000</td>\n",
       "      <td>0.000000</td>\n",
       "      <td>0.000000</td>\n",
       "      <td>0.0000</td>\n",
       "      <td>0.0</td>\n",
       "      <td>0.0</td>\n",
       "      <td>0.000000</td>\n",
       "      <td>0.000000</td>\n",
       "      <td>0.000000</td>\n",
       "      <td>...</td>\n",
       "      <td>0.00000</td>\n",
       "      <td>0.00000</td>\n",
       "      <td>0.00</td>\n",
       "      <td>0.0</td>\n",
       "      <td>0.0</td>\n",
       "      <td>0.0</td>\n",
       "      <td>0.000000</td>\n",
       "      <td>0.0</td>\n",
       "      <td>0.0</td>\n",
       "      <td>no savings</td>\n",
       "    </tr>\n",
       "    <tr>\n",
       "      <th>1</th>\n",
       "      <td>0.644444</td>\n",
       "      <td>0.125</td>\n",
       "      <td>0.019608</td>\n",
       "      <td>0.021739</td>\n",
       "      <td>0.0625</td>\n",
       "      <td>0.0</td>\n",
       "      <td>0.0</td>\n",
       "      <td>0.166667</td>\n",
       "      <td>0.043478</td>\n",
       "      <td>0.071429</td>\n",
       "      <td>...</td>\n",
       "      <td>0.00000</td>\n",
       "      <td>0.00000</td>\n",
       "      <td>0.00</td>\n",
       "      <td>0.0</td>\n",
       "      <td>0.0</td>\n",
       "      <td>0.0</td>\n",
       "      <td>0.019231</td>\n",
       "      <td>1.0</td>\n",
       "      <td>0.0</td>\n",
       "      <td>no savings</td>\n",
       "    </tr>\n",
       "    <tr>\n",
       "      <th>2</th>\n",
       "      <td>0.200000</td>\n",
       "      <td>0.000</td>\n",
       "      <td>0.000000</td>\n",
       "      <td>0.000000</td>\n",
       "      <td>0.1250</td>\n",
       "      <td>0.0</td>\n",
       "      <td>0.5</td>\n",
       "      <td>0.333333</td>\n",
       "      <td>0.000000</td>\n",
       "      <td>0.000000</td>\n",
       "      <td>...</td>\n",
       "      <td>0.02381</td>\n",
       "      <td>0.02381</td>\n",
       "      <td>0.25</td>\n",
       "      <td>0.0</td>\n",
       "      <td>0.0</td>\n",
       "      <td>0.0</td>\n",
       "      <td>0.000000</td>\n",
       "      <td>0.0</td>\n",
       "      <td>0.0</td>\n",
       "      <td>no savings</td>\n",
       "    </tr>\n",
       "    <tr>\n",
       "      <th>3</th>\n",
       "      <td>0.100000</td>\n",
       "      <td>0.000</td>\n",
       "      <td>0.000000</td>\n",
       "      <td>0.000000</td>\n",
       "      <td>0.1875</td>\n",
       "      <td>0.0</td>\n",
       "      <td>0.0</td>\n",
       "      <td>0.333333</td>\n",
       "      <td>0.000000</td>\n",
       "      <td>0.000000</td>\n",
       "      <td>...</td>\n",
       "      <td>0.00000</td>\n",
       "      <td>0.00000</td>\n",
       "      <td>0.00</td>\n",
       "      <td>0.0</td>\n",
       "      <td>0.0</td>\n",
       "      <td>0.5</td>\n",
       "      <td>0.000000</td>\n",
       "      <td>1.0</td>\n",
       "      <td>0.0</td>\n",
       "      <td>no savings</td>\n",
       "    </tr>\n",
       "    <tr>\n",
       "      <th>4</th>\n",
       "      <td>0.111111</td>\n",
       "      <td>0.000</td>\n",
       "      <td>0.000000</td>\n",
       "      <td>0.000000</td>\n",
       "      <td>0.1875</td>\n",
       "      <td>0.0</td>\n",
       "      <td>0.0</td>\n",
       "      <td>0.333333</td>\n",
       "      <td>0.000000</td>\n",
       "      <td>0.000000</td>\n",
       "      <td>...</td>\n",
       "      <td>0.00000</td>\n",
       "      <td>0.00000</td>\n",
       "      <td>0.00</td>\n",
       "      <td>0.0</td>\n",
       "      <td>0.0</td>\n",
       "      <td>0.5</td>\n",
       "      <td>0.000000</td>\n",
       "      <td>1.0</td>\n",
       "      <td>0.0</td>\n",
       "      <td>no savings</td>\n",
       "    </tr>\n",
       "  </tbody>\n",
       "</table>\n",
       "<p>5 rows × 42 columns</p>\n",
       "</div>"
      ],
      "text/plain": [
       "        age  class_of_worker  detailed_industry_code  \\\n",
       "0  0.811111            0.000                0.000000   \n",
       "1  0.644444            0.125                0.019608   \n",
       "2  0.200000            0.000                0.000000   \n",
       "3  0.100000            0.000                0.000000   \n",
       "4  0.111111            0.000                0.000000   \n",
       "\n",
       "   detailed_occupation_code  education  wage_per_hour  \\\n",
       "0                  0.000000     0.0000            0.0   \n",
       "1                  0.021739     0.0625            0.0   \n",
       "2                  0.000000     0.1250            0.0   \n",
       "3                  0.000000     0.1875            0.0   \n",
       "4                  0.000000     0.1875            0.0   \n",
       "\n",
       "   enrolled_in_edu_last_week  marital_status  major_industry_code  \\\n",
       "0                        0.0        0.000000             0.000000   \n",
       "1                        0.0        0.166667             0.043478   \n",
       "2                        0.5        0.333333             0.000000   \n",
       "3                        0.0        0.333333             0.000000   \n",
       "4                        0.0        0.333333             0.000000   \n",
       "\n",
       "   major_occupation_code  ...  cob_mother  cob_self  citizenship  \\\n",
       "0               0.000000  ...     0.00000   0.00000         0.00   \n",
       "1               0.071429  ...     0.00000   0.00000         0.00   \n",
       "2               0.000000  ...     0.02381   0.02381         0.25   \n",
       "3               0.000000  ...     0.00000   0.00000         0.00   \n",
       "4               0.000000  ...     0.00000   0.00000         0.00   \n",
       "\n",
       "   own_business_or_self_employed  fill_in_questionnaire_for_veterans_admin  \\\n",
       "0                            0.0                                       0.0   \n",
       "1                            0.0                                       0.0   \n",
       "2                            0.0                                       0.0   \n",
       "3                            0.0                                       0.0   \n",
       "4                            0.0                                       0.0   \n",
       "\n",
       "   veterans_benefits  weeks_worked_in_year  year  target  binary_target  \n",
       "0                0.0              0.000000   0.0     0.0     no savings  \n",
       "1                0.0              0.019231   1.0     0.0     no savings  \n",
       "2                0.0              0.000000   0.0     0.0     no savings  \n",
       "3                0.5              0.000000   1.0     0.0     no savings  \n",
       "4                0.5              0.000000   1.0     0.0     no savings  \n",
       "\n",
       "[5 rows x 42 columns]"
      ]
     },
     "execution_count": 2,
     "metadata": {},
     "output_type": "execute_result"
    }
   ],
   "source": [
    "df_train.head()"
   ]
  },
  {
   "cell_type": "markdown",
   "metadata": {},
   "source": [
    "## Train Classifieres on the Train Set"
   ]
  },
  {
   "cell_type": "code",
   "execution_count": 15,
   "metadata": {},
   "outputs": [],
   "source": [
    "x = df_train.loc[:,df_train.columns != 'target'].drop('binary_target',axis = 1)# drop target and binary_target\n",
    "y = df_train.loc[:,'target'] # drop all features less the targert"
   ]
  },
  {
   "cell_type": "code",
   "execution_count": 17,
   "metadata": {},
   "outputs": [
    {
     "name": "stdout",
     "output_type": "stream",
     "text": [
      "The training x set contains 122316 rows and 40 columns\n",
      "The training y set contains 122316 rows and 1 column\n",
      "The test x set contains 30580 rows and 40 columns\n",
      "The test y set contains 30580 rows and 1 column\n"
     ]
    }
   ],
   "source": [
    "# split the train dataset into training and validation sets\n",
    "x_train, x_test, y_train, y_test = train_test_split(x, y, test_size=0.2, random_state=42)\n",
    "print(f'The training x set contains {x_train.shape[0]} rows and {x_train.shape[1]} columns')\n",
    "print(f'The training y set contains {y_train.shape[0]} rows and 1 column')\n",
    "print(f'The test x set contains {x_test.shape[0]} rows and {x_test.shape[1]} columns')\n",
    "print(f'The test y set contains {y_test.shape[0]} rows and 1 column')"
   ]
  },
  {
   "cell_type": "markdown",
   "metadata": {},
   "source": [
    "## Decision Tree Classifier"
   ]
  },
  {
   "cell_type": "code",
   "execution_count": 18,
   "metadata": {},
   "outputs": [
    {
     "name": "stdout",
     "output_type": "stream",
     "text": [
      "Accuracy: 90.83 %\n",
      "              precision    recall  f1-score   support\n",
      "\n",
      "         0.0       0.95      0.95      0.95     28144\n",
      "         1.0       0.43      0.48      0.46      2436\n",
      "\n",
      "    accuracy                           0.91     30580\n",
      "   macro avg       0.69      0.71      0.70     30580\n",
      "weighted avg       0.91      0.91      0.91     30580\n",
      "\n"
     ]
    },
    {
     "data": {
      "image/png": "[encoded data removed]",
      "text/plain": [
       "<Figure size 432x288 with 2 Axes>"
      ]
     },
     "metadata": {
      "needs_background": "light"
     },
     "output_type": "display_data"
    }
   ],
   "source": [
    "f.classifier(DecisionTreeClassifier,x_train, y_train, x_test,y_test, 'Decision Tree')"
   ]
  },
  {
   "cell_type": "markdown",
   "metadata": {},
   "source": [
    "## Ramdom Forest Emsamble Model"
   ]
  },
  {
   "cell_type": "code",
   "execution_count": 20,
   "metadata": {},
   "outputs": [
    {
     "name": "stdout",
     "output_type": "stream",
     "text": [
      "Accuracy: 94.19 %\n",
      "              precision    recall  f1-score   support\n",
      "\n",
      "         0.0       0.95      0.99      0.97     28144\n",
      "         1.0       0.73      0.43      0.54      2436\n",
      "\n",
      "    accuracy                           0.94     30580\n",
      "   macro avg       0.84      0.71      0.75     30580\n",
      "weighted avg       0.93      0.94      0.93     30580\n",
      "\n"
     ]
    },
    {
     "data": {
      "image/png": "[encoded data removed]",
      "text/plain": [
       "<Figure size 432x288 with 2 Axes>"
      ]
     },
     "metadata": {
      "needs_background": "light"
     },
     "output_type": "display_data"
    }
   ],
   "source": [
    "f.classifier(RandomForestClassifier,x_train, y_train, x_test,y_test, 'Decision Tree')"
   ]
  },
  {
   "cell_type": "markdown",
   "metadata": {},
   "source": [
    "## Balance Tager Feature With SMOTE"
   ]
  },
  {
   "cell_type": "code",
   "execution_count": 21,
   "metadata": {},
   "outputs": [
    {
     "name": "stdout",
     "output_type": "stream",
     "text": [
      "The training x set contains 224846 rows and 40 columns\n",
      "The training y set contains 224846 rows and 1 column\n",
      "The test x set contains 56212 rows and 40 columns\n",
      "The test y set contains 56212 rows and 1 column\n"
     ]
    }
   ],
   "source": [
    "X_resampled, y_resampled = SMOTE().fit_sample(x, y)\n",
    "# split the train dataset into training and validation sets\n",
    "x_train_smote, x_test_smote, y_train_smote, y_test_smote = train_test_split(X_resampled, y_resampled, test_size=0.2, random_state=42)\n",
    "print(f'The training x set contains {x_train_smote.shape[0]} rows and {x_train_smote.shape[1]} columns')\n",
    "print(f'The training y set contains {y_train_smote.shape[0]} rows and 1 column')\n",
    "print(f'The test x set contains {x_test_smote.shape[0]} rows and {x_test_smote.shape[1]} columns')\n",
    "print(f'The test y set contains {y_test_smote.shape[0]} rows and 1 column')\n",
    "\n"
   ]
  },
  {
   "cell_type": "code",
   "execution_count": null,
   "metadata": {},
   "outputs": [],
   "source": [
    "# print(f\"Before OverSampling, counts of label '1': {sum(y_train == 1)}\")\n",
    "# print(f\"Before OverSampling, counts of label '0': {sum(y_train == 0)}\")\n",
    " \n",
    "# X_resampled, y_resampled = SMOTE().fit_sample(x, y) \n",
    "# print(f'After OverSampling, the shape of train_X: {X_train_resampled.shape}')\n",
    "# print(f'After OverSampling, the shape of train_y: {y_train_resampled.shape}')\n",
    "  \n",
    "# print(f\"After OverSampling, counts of label '1': {sum(y_train_resampled == 1)}\")\n",
    "# print(f\"After OverSampling, counts of label '0': {sum(y_train_resampled == 0)}\")"
   ]
  },
  {
   "cell_type": "code",
   "execution_count": null,
   "metadata": {},
   "outputs": [],
   "source": [
    "# print(f\"Before OverSampling, counts of label '1': {sum(y_train == 1)}\")\n",
    "# print(f\"Before OverSampling, counts of label '0': {sum(y_train == 0)}\")\n",
    " \n",
    "# X_resampled, y_resampled = SMOTE().fit_sample(x_train, y_train) \n",
    "# print(f'After OverSampling, the shape of train_X: {X_train_resampled.shape}')\n",
    "# print(f'After OverSampling, the shape of train_y: {y_train_resampled.shape}')\n",
    "  \n",
    "# print(f\"After OverSampling, counts of label '1': {sum(y_train_resampled == 1)}\")\n",
    "# print(f\"After OverSampling, counts of label '0': {sum(y_train_resampled == 0)}\")"
   ]
  },
  {
   "cell_type": "code",
   "execution_count": 22,
   "metadata": {},
   "outputs": [
    {
     "name": "stdout",
     "output_type": "stream",
     "text": [
      "Accuracy: 93.18 %\n",
      "              precision    recall  f1-score   support\n",
      "\n",
      "         0.0       0.94      0.93      0.93     28045\n",
      "         1.0       0.93      0.94      0.93     28167\n",
      "\n",
      "    accuracy                           0.93     56212\n",
      "   macro avg       0.93      0.93      0.93     56212\n",
      "weighted avg       0.93      0.93      0.93     56212\n",
      "\n"
     ]
    },
    {
     "data": {
      "image/png": "[encoded data removed]",
      "text/plain": [
       "<Figure size 432x288 with 2 Axes>"
      ]
     },
     "metadata": {
      "needs_background": "light"
     },
     "output_type": "display_data"
    }
   ],
   "source": [
    "f.classifier(DecisionTreeClassifier,x_train_smote, y_train_smote, x_test_smote, y_test_smote, 'Decision Tree')"
   ]
  },
  {
   "cell_type": "code",
   "execution_count": 23,
   "metadata": {},
   "outputs": [
    {
     "name": "stdout",
     "output_type": "stream",
     "text": [
      "Accuracy: 96.26 %\n",
      "              precision    recall  f1-score   support\n",
      "\n",
      "         0.0       0.97      0.96      0.96     28045\n",
      "         1.0       0.96      0.97      0.96     28167\n",
      "\n",
      "    accuracy                           0.96     56212\n",
      "   macro avg       0.96      0.96      0.96     56212\n",
      "weighted avg       0.96      0.96      0.96     56212\n",
      "\n"
     ]
    },
    {
     "data": {
      "image/png": "[encoded data removed]",
      "text/plain": [
       "<Figure size 432x288 with 2 Axes>"
      ]
     },
     "metadata": {
      "needs_background": "light"
     },
     "output_type": "display_data"
    }
   ],
   "source": [
    "f.classifier(RandomForestClassifier,x_train_smote, y_train_smote, x_test_smote, y_test_smote, 'Ramdom Forest')"
   ]
  },
  {
   "cell_type": "code",
   "execution_count": null,
   "metadata": {},
   "outputs": [],
   "source": []
  }
 ],
 "metadata": {
  "kernelspec": {
   "display_name": "Python 3",
   "language": "python",
   "name": "python3"
  },
  "language_info": {
   "codemirror_mode": {
    "name": "ipython",
    "version": 3
   },
   "file_extension": ".py",
   "mimetype": "text/x-python",
   "name": "python",
   "nbconvert_exporter": "python",
   "pygments_lexer": "ipython3",
   "version": "3.7.7"
  }
 },
 "nbformat": 4,
 "nbformat_minor": 4
}
